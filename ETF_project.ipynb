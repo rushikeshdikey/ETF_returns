{
 "cells": [
  {
   "cell_type": "code",
   "execution_count": 58,
   "id": "f676aff7",
   "metadata": {},
   "outputs": [],
   "source": [
    "#!pip install yfinance"
   ]
  },
  {
   "cell_type": "code",
   "execution_count": 137,
   "id": "521baa9a",
   "metadata": {},
   "outputs": [],
   "source": [
    "import yfinance as yf\n",
    "import pandas as pd\n",
    "import numpy as np\n",
    "import datetime as dt\n",
    "import matplotlib as mp"
   ]
  },
  {
   "cell_type": "code",
   "execution_count": 138,
   "id": "6d5931a6",
   "metadata": {},
   "outputs": [],
   "source": [
    "class Returns:\n",
    "    def __init__(self, symbol, analysis_start_date=None, analysis_end_date=None ):\n",
    "        self.symbol = symbol\n",
    "        self.analysis_start_date = analysis_start_date\n",
    "        self.analysis_end_date = analysis_end_date\n",
    "        self.download_data(self)\n",
    "        self.calculate_returns()\n",
    "\n",
    "    def download_data(self, symbol, analysis_start_date=None, analysis_end_date=None):\n",
    "    # to download data\n",
    "        self.stock_data = yf.download(self.symbol, start = self.analysis_start_date, end = self.analysis_end_date, interval = '1d').reset_index()\n",
    "\n",
    "        # to calculate returns used log for additive returns \n",
    "        self.stock_data[\"Log_Returns\"] = (np.log(self.stock_data['Close'] / self.stock_data['Close'].shift(1))) * 100\n",
    "\n",
    "        # drop the NaN value\n",
    "        self.stock_data = self.stock_data.dropna()\n",
    "\n",
    "        return self.stock_data\n",
    "\n",
    "    def calculate_returns(self):\n",
    "        # EXTRACT LAST WROKING DAY\n",
    "        self.s = pd.date_range(self.analysis_start_date, self.analysis_end_date, freq='BM')\n",
    "        \n",
    "        # create column Date(last working date) in df\n",
    "        self.df = pd.DataFrame(self.s, columns=[\"Date\"])\n",
    "        \n",
    "        # compare above dataframe with exsting dataframe\n",
    "        self.stock_data[\"Last_Date\"] = self.stock_data[\"Date\"].isin(self.df[\"Date\"])\n",
    "        \n",
    "        # checking if last date is avilable in data frame\n",
    "        self.stock_data = self.stock_data[self.stock_data[\"Last_Date\"] == True]\n",
    "        \n",
    "        # calculating returns and used np.log to convert retruns to log as it is additive\n",
    "        self.stock_data[\"Log_Returns\"] = np.log(self.stock_data['Close'] / self.stock_data['Close'].shift(1))\n",
    "        \n",
    "        # droping NaN values as start data row will have now return\n",
    "        self.stock_data.dropna(inplace=True)\n",
    "\n",
    "        # to create column of cumulative returns\n",
    "        self.stock_data[\"Cum Returns\"] = np.exp(self.stock_data[\"Log_Returns\"].cumsum())-1\n",
    "        \n",
    "        # set date as index\n",
    "        self.stock_data.set_index(\"Date\", inplace=True)\n",
    "        \n",
    "        # calcuate returns in percentage\n",
    "        self.stock_data[\"Final Returns\"] = self.stock_data[\"Cum Returns\"] * 100\n",
    "        \n",
    "        #print(self.stock_data)\n",
    "\n",
    "        return self.stock_data\n",
    "    \n",
    "    def plot_graph(self):\n",
    "        self.stock_data.plot(y=\"Final Returns\");"
   ]
  },
  {
   "cell_type": "code",
   "execution_count": 139,
   "id": "c655ba93",
   "metadata": {},
   "outputs": [
    {
     "name": "stdout",
     "output_type": "stream",
     "text": [
      "[*********************100%***********************]  1 of 1 completed\n"
     ]
    },
    {
     "data": {
      "image/png": "[encoded data removed]",
      "text/plain": [
       "<Figure size 432x288 with 1 Axes>"
      ]
     },
     "metadata": {
      "needs_background": "light"
     },
     "output_type": "display_data"
    }
   ],
   "source": [
    "ret = Returns(\"BANKBEES.NS\", \"2012-01-01\", \"2022-05-01\")\n",
    "ret.plot_graph()"
   ]
  },
  {
   "cell_type": "code",
   "execution_count": 114,
   "id": "0c32e886",
   "metadata": {},
   "outputs": [],
   "source": [
    "# data downloaded for ETF\n",
    "# data = yf.download(\"NIFTYBEES.NS\")\n",
    "# data\n",
    "\n",
    "def download_data(symbol, analysis_start_date=None, analysis_end_date=None):\n",
    "    # to download data\n",
    "    data = yf.download(symbol, start = analysis_start_date, end = analysis_end_date, interval = '1d').reset_index()\n",
    "    \n",
    "    # to calculate returns used log for additive returns \n",
    "    #data[\"Log_Returns\"] = (np.log(data['Close'] / data['Close'].shift(1))) * 100\n",
    "    \n",
    "    # drop the NaN value\n",
    "    #data = data.dropna()\n",
    "    \n",
    "    return data"
   ]
  },
  {
   "cell_type": "code",
   "execution_count": 115,
   "id": "14a52c2c",
   "metadata": {},
   "outputs": [
    {
     "name": "stdout",
     "output_type": "stream",
     "text": [
      "[*********************100%***********************]  1 of 1 completed\n"
     ]
    }
   ],
   "source": [
    "data = yf.download(\"NIFTYBEES.NS\")\n",
    "data.to_csv(\"niftybees.csv\")"
   ]
  },
  {
   "cell_type": "code",
   "execution_count": 127,
   "id": "4b8bf79a",
   "metadata": {},
   "outputs": [],
   "source": [
    "def calculate_returns(analysis_start_date, analysis_end_date):\n",
    "    s = pd.date_range(analysis_start_date, analysis_end_date, freq='BM')\n",
    "    \n",
    "    df = pd.DataFrame(s, columns=['Date'])\n",
    "    stock_data[\"Last_Date\"] = stock_data[\"Date\"].isin(df[\"Date\"])\n",
    "\n",
    "    stock_data = stock_data[stock_data[\"Last_Date\"] == True]\n",
    "    stock_data[\"Log_Returns\"] = np.log(stock_data['Close'] / stock_data['Close'].shift(1))\n",
    "\n",
    "    stock_data.dropna(inplace=True)\n",
    "    \n",
    "    returns = np.exp(stock_data[\"Log_Returns\"].sum()) * 100\n",
    "    \n",
    "    return returns\n",
    "    "
   ]
  },
  {
   "cell_type": "code",
   "execution_count": 117,
   "id": "30c021fa",
   "metadata": {},
   "outputs": [
    {
     "name": "stdout",
     "output_type": "stream",
     "text": [
      "[*********************100%***********************]  1 of 1 completed\n"
     ]
    },
    {
     "data": {
      "text/html": [
       "<div>\n",
       "<style scoped>\n",
       "    .dataframe tbody tr th:only-of-type {\n",
       "        vertical-align: middle;\n",
       "    }\n",
       "\n",
       "    .dataframe tbody tr th {\n",
       "        vertical-align: top;\n",
       "    }\n",
       "\n",
       "    .dataframe thead th {\n",
       "        text-align: right;\n",
       "    }\n",
       "</style>\n",
       "<table border=\"1\" class=\"dataframe\">\n",
       "  <thead>\n",
       "    <tr style=\"text-align: right;\">\n",
       "      <th></th>\n",
       "      <th>Date</th>\n",
       "      <th>Open</th>\n",
       "      <th>High</th>\n",
       "      <th>Low</th>\n",
       "      <th>Close</th>\n",
       "      <th>Adj Close</th>\n",
       "      <th>Volume</th>\n",
       "    </tr>\n",
       "  </thead>\n",
       "  <tbody>\n",
       "    <tr>\n",
       "      <th>0</th>\n",
       "      <td>2015-01-01</td>\n",
       "      <td>83.849998</td>\n",
       "      <td>83.969002</td>\n",
       "      <td>83.000000</td>\n",
       "      <td>83.814003</td>\n",
       "      <td>83.814003</td>\n",
       "      <td>129140</td>\n",
       "    </tr>\n",
       "    <tr>\n",
       "      <th>1</th>\n",
       "      <td>2015-01-02</td>\n",
       "      <td>83.699997</td>\n",
       "      <td>84.879997</td>\n",
       "      <td>83.599998</td>\n",
       "      <td>84.713997</td>\n",
       "      <td>84.713997</td>\n",
       "      <td>295810</td>\n",
       "    </tr>\n",
       "    <tr>\n",
       "      <th>2</th>\n",
       "      <td>2015-01-05</td>\n",
       "      <td>84.599998</td>\n",
       "      <td>85.224998</td>\n",
       "      <td>84.370003</td>\n",
       "      <td>84.492996</td>\n",
       "      <td>84.492996</td>\n",
       "      <td>546240</td>\n",
       "    </tr>\n",
       "    <tr>\n",
       "      <th>3</th>\n",
       "      <td>2015-01-06</td>\n",
       "      <td>84.099998</td>\n",
       "      <td>84.099998</td>\n",
       "      <td>82.055000</td>\n",
       "      <td>82.388000</td>\n",
       "      <td>82.388000</td>\n",
       "      <td>1030240</td>\n",
       "    </tr>\n",
       "    <tr>\n",
       "      <th>4</th>\n",
       "      <td>2015-01-07</td>\n",
       "      <td>82.349998</td>\n",
       "      <td>82.360001</td>\n",
       "      <td>81.525002</td>\n",
       "      <td>81.995003</td>\n",
       "      <td>81.995003</td>\n",
       "      <td>1194180</td>\n",
       "    </tr>\n",
       "  </tbody>\n",
       "</table>\n",
       "</div>"
      ],
      "text/plain": [
       "        Date       Open       High        Low      Close  Adj Close   Volume\n",
       "0 2015-01-01  83.849998  83.969002  83.000000  83.814003  83.814003   129140\n",
       "1 2015-01-02  83.699997  84.879997  83.599998  84.713997  84.713997   295810\n",
       "2 2015-01-05  84.599998  85.224998  84.370003  84.492996  84.492996   546240\n",
       "3 2015-01-06  84.099998  84.099998  82.055000  82.388000  82.388000  1030240\n",
       "4 2015-01-07  82.349998  82.360001  81.525002  81.995003  81.995003  1194180"
      ]
     },
     "execution_count": 117,
     "metadata": {},
     "output_type": "execute_result"
    }
   ],
   "source": [
    "# always checkl ticker symbol from yoahoo website\n",
    "stock_data = download_data(\"NIFTYBEES.NS\", \"2015-01-01\", \"2022-01-01\")\n",
    "stock_data.head()"
   ]
  },
  {
   "cell_type": "code",
   "execution_count": 86,
   "id": "ef2c4e8e",
   "metadata": {},
   "outputs": [],
   "source": [
    "## to convert date to Datatime format if not formatted\n",
    "#stock_data[\"Date\"] = pd.to_datetime(arg =\"float_64\" format=\"%Y-%m-%d\")\n",
    "\n",
    "## to compare close and adjsted close price\n",
    "#(data.loc[data[\"Close\"]!=data[\"Adj Close\"]])\n"
   ]
  },
  {
   "cell_type": "code",
   "execution_count": 118,
   "id": "615213a0",
   "metadata": {},
   "outputs": [],
   "source": [
    "s = pd.date_range('2015-01-01', '2022-08-31', freq='BM')\n",
    "df = pd.DataFrame(s, columns=['Date'])\n",
    "stock_data[\"Last_Date\"] = stock_data[\"Date\"].isin(df[\"Date\"])\n",
    "\n",
    "stock_data = stock_data[stock_data[\"Last_Date\"] == True]\n",
    "stock_data[\"Log_Returns\"] = np.log(stock_data['Close'] / stock_data['Close'].shift(1))\n",
    "\n",
    "stock_data.dropna(inplace=True)\n",
    "\n",
    "stock_data[\"Cum Returns\"] = np.exp(stock_data[\"Log_Returns\"].cumsum())-1\n",
    "stock_data.set_index(\"Date\", inplace=True)\n",
    "#stock_data\n",
    "\n",
    "stock_data[\"Final Returns\"] = stock_data[\"Cum Returns\"] * 100"
   ]
  },
  {
   "cell_type": "code",
   "execution_count": 128,
   "id": "7d211a21",
   "metadata": {},
   "outputs": [
    {
     "data": {
      "text/html": [
       "<div>\n",
       "<style scoped>\n",
       "    .dataframe tbody tr th:only-of-type {\n",
       "        vertical-align: middle;\n",
       "    }\n",
       "\n",
       "    .dataframe tbody tr th {\n",
       "        vertical-align: top;\n",
       "    }\n",
       "\n",
       "    .dataframe thead th {\n",
       "        text-align: right;\n",
       "    }\n",
       "</style>\n",
       "<table border=\"1\" class=\"dataframe\">\n",
       "  <thead>\n",
       "    <tr style=\"text-align: right;\">\n",
       "      <th></th>\n",
       "      <th>Open</th>\n",
       "      <th>High</th>\n",
       "      <th>Low</th>\n",
       "      <th>Close</th>\n",
       "      <th>Adj Close</th>\n",
       "      <th>Volume</th>\n",
       "      <th>Last_Date</th>\n",
       "      <th>Log_Returns</th>\n",
       "      <th>Cum Returns</th>\n",
       "      <th>Final Returns</th>\n",
       "    </tr>\n",
       "    <tr>\n",
       "      <th>Date</th>\n",
       "      <th></th>\n",
       "      <th></th>\n",
       "      <th></th>\n",
       "      <th></th>\n",
       "      <th></th>\n",
       "      <th></th>\n",
       "      <th></th>\n",
       "      <th></th>\n",
       "      <th></th>\n",
       "      <th></th>\n",
       "    </tr>\n",
       "  </thead>\n",
       "  <tbody>\n",
       "    <tr>\n",
       "      <th>2015-02-27</th>\n",
       "      <td>87.823997</td>\n",
       "      <td>89.000000</td>\n",
       "      <td>87.599998</td>\n",
       "      <td>88.894997</td>\n",
       "      <td>88.894997</td>\n",
       "      <td>1450470</td>\n",
       "      <td>True</td>\n",
       "      <td>-0.006582</td>\n",
       "      <td>-0.006560</td>\n",
       "      <td>-0.656004</td>\n",
       "    </tr>\n",
       "    <tr>\n",
       "      <th>2015-03-31</th>\n",
       "      <td>85.199997</td>\n",
       "      <td>85.599998</td>\n",
       "      <td>84.699997</td>\n",
       "      <td>85.078003</td>\n",
       "      <td>85.078003</td>\n",
       "      <td>403210</td>\n",
       "      <td>True</td>\n",
       "      <td>-0.043887</td>\n",
       "      <td>-0.049217</td>\n",
       "      <td>-4.921659</td>\n",
       "    </tr>\n",
       "    <tr>\n",
       "      <th>2015-04-30</th>\n",
       "      <td>82.402000</td>\n",
       "      <td>82.550003</td>\n",
       "      <td>81.806999</td>\n",
       "      <td>82.275002</td>\n",
       "      <td>82.275002</td>\n",
       "      <td>1605040</td>\n",
       "      <td>True</td>\n",
       "      <td>-0.033501</td>\n",
       "      <td>-0.080541</td>\n",
       "      <td>-8.054134</td>\n",
       "    </tr>\n",
       "    <tr>\n",
       "      <th>2015-05-29</th>\n",
       "      <td>83.449997</td>\n",
       "      <td>84.785004</td>\n",
       "      <td>83.400002</td>\n",
       "      <td>84.644997</td>\n",
       "      <td>84.644997</td>\n",
       "      <td>412300</td>\n",
       "      <td>True</td>\n",
       "      <td>0.028399</td>\n",
       "      <td>-0.054056</td>\n",
       "      <td>-5.405563</td>\n",
       "    </tr>\n",
       "    <tr>\n",
       "      <th>2015-06-30</th>\n",
       "      <td>83.599998</td>\n",
       "      <td>84.488998</td>\n",
       "      <td>83.485001</td>\n",
       "      <td>84.375000</td>\n",
       "      <td>84.375000</td>\n",
       "      <td>241910</td>\n",
       "      <td>True</td>\n",
       "      <td>-0.003195</td>\n",
       "      <td>-0.057073</td>\n",
       "      <td>-5.707295</td>\n",
       "    </tr>\n",
       "  </tbody>\n",
       "</table>\n",
       "</div>"
      ],
      "text/plain": [
       "                 Open       High        Low      Close  Adj Close   Volume  \\\n",
       "Date                                                                         \n",
       "2015-02-27  87.823997  89.000000  87.599998  88.894997  88.894997  1450470   \n",
       "2015-03-31  85.199997  85.599998  84.699997  85.078003  85.078003   403210   \n",
       "2015-04-30  82.402000  82.550003  81.806999  82.275002  82.275002  1605040   \n",
       "2015-05-29  83.449997  84.785004  83.400002  84.644997  84.644997   412300   \n",
       "2015-06-30  83.599998  84.488998  83.485001  84.375000  84.375000   241910   \n",
       "\n",
       "            Last_Date  Log_Returns  Cum Returns  Final Returns  \n",
       "Date                                                            \n",
       "2015-02-27       True    -0.006582    -0.006560      -0.656004  \n",
       "2015-03-31       True    -0.043887    -0.049217      -4.921659  \n",
       "2015-04-30       True    -0.033501    -0.080541      -8.054134  \n",
       "2015-05-29       True     0.028399    -0.054056      -5.405563  \n",
       "2015-06-30       True    -0.003195    -0.057073      -5.707295  "
      ]
     },
     "execution_count": 128,
     "metadata": {},
     "output_type": "execute_result"
    }
   ],
   "source": [
    "stock_data.head()"
   ]
  },
  {
   "cell_type": "code",
   "execution_count": 120,
   "id": "de552f08",
   "metadata": {},
   "outputs": [
    {
     "data": {
      "image/png": "[encoded data removed]",
      "text/plain": [
       "<Figure size 432x288 with 1 Axes>"
      ]
     },
     "metadata": {
      "needs_background": "light"
     },
     "output_type": "display_data"
    }
   ],
   "source": [
    "stock_data.plot(y=\"Final Returns\");"
   ]
  }
 ],
 "metadata": {
  "kernelspec": {
   "display_name": "Python 3 (ipykernel)",
   "language": "python",
   "name": "python3"
  },
  "language_info": {
   "codemirror_mode": {
    "name": "ipython",
    "version": 3
   },
   "file_extension": ".py",
   "mimetype": "text/x-python",
   "name": "python",
   "nbconvert_exporter": "python",
   "pygments_lexer": "ipython3",
   "version": "3.9.12"
  }
 },
 "nbformat": 4,
 "nbformat_minor": 5
}
