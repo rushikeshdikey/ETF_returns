{
 "cells": [
  {
   "cell_type": "markdown",
   "id": "903bbfef-e965-4e36-aa66-f671ea590b88",
   "metadata": {},
   "source": [
    "## Created this project to calculate any ETF(IndexFund) returns for specific time period.  "
   ]
  },
  {
   "cell_type": "markdown",
   "id": "f6d2bbe8-90f0-4f10-a2e7-3d7d2488fec7",
   "metadata": {},
   "source": [
    "* Using Yahoo finace for Downloading stock data."
   ]
  },
  {
   "cell_type": "code",
   "execution_count": 2,
   "id": "5ddb1350-88bc-443f-9465-77e349e28f98",
   "metadata": {},
   "outputs": [],
   "source": [
    "#!pip install yfinance"
   ]
  },
  {
   "cell_type": "markdown",
   "id": "07aea08d-ca9a-4089-b400-dcebe9255e7a",
   "metadata": {},
   "source": [
    "* Importing all required libraries."
   ]
  },
  {
   "cell_type": "code",
   "execution_count": 3,
   "id": "29f4011a-9b77-4aa2-af4a-92432b4950b3",
   "metadata": {},
   "outputs": [],
   "source": [
    "import yfinance as yf\n",
    "import pandas as pd\n",
    "import numpy as np\n",
    "import datetime as dt\n",
    "import matplotlib.pyplot as plt"
   ]
  },
  {
   "cell_type": "markdown",
   "id": "a6db183f-9062-4e0f-bc03-30427039028e",
   "metadata": {},
   "source": [
    "* Run the Returns function below to download, analyse, calculate and plot the graph."
   ]
  },
  {
   "cell_type": "code",
   "execution_count": 4,
   "id": "78deebc6-2c07-427f-9d81-7518df729c6a",
   "metadata": {},
   "outputs": [],
   "source": [
    "class Returns:\n",
    "    def __init__(self, symbol, analysis_start_date=None, analysis_end_date=None ):\n",
    "        self.symbol = symbol\n",
    "        self.analysis_start_date = analysis_start_date\n",
    "        self.analysis_end_date = analysis_end_date\n",
    "        self.download_data(self)\n",
    "        self.calculate_returns()\n",
    "\n",
    "    def download_data(self, symbol, analysis_start_date=None, analysis_end_date=None):\n",
    "    # to download data\n",
    "        self.stock_data = yf.download(self.symbol, start = self.analysis_start_date, end = self.analysis_end_date, interval = '1d').reset_index()\n",
    "\n",
    "        # to calculate returns used log for additive returns \n",
    "        self.stock_data[\"Log_Returns\"] = (np.log(self.stock_data['Close'] / self.stock_data['Close'].shift(1))) * 100\n",
    "\n",
    "        # drop the NaN value\n",
    "        self.stock_data = self.stock_data.dropna()\n",
    "\n",
    "        return self.stock_data\n",
    "\n",
    "    def calculate_returns(self):\n",
    "        # Extract Lasr Working Day\n",
    "        self.s = pd.date_range(self.analysis_start_date, self.analysis_end_date, freq='BM')\n",
    "        \n",
    "        # create column Date(last working date) in df\n",
    "        self.df = pd.DataFrame(self.s, columns=[\"Date\"])\n",
    "        \n",
    "        # compare above dataframe with exsting dataframe\n",
    "        self.stock_data[\"Last_Date\"] = self.stock_data[\"Date\"].isin(self.df[\"Date\"])\n",
    "        \n",
    "        # checking if last date is avilable in data frame\n",
    "        self.stock_data = self.stock_data[self.stock_data[\"Last_Date\"] == True]\n",
    "        \n",
    "        # calculating returns and used np.log to convert retruns to log as it is additive\n",
    "        self.stock_data[\"Log_Returns\"] = np.log(self.stock_data['Close'] / self.stock_data['Close'].shift(1))\n",
    "        \n",
    "        # droping NaN values as start data row will have now return\n",
    "        self.stock_data.dropna(inplace=True)\n",
    "\n",
    "        # to create column of cumulative returns\n",
    "        self.stock_data[\"Cum Returns\"] = np.exp(self.stock_data[\"Log_Returns\"].cumsum())-1\n",
    "        \n",
    "        # set date as index\n",
    "        self.stock_data.set_index(\"Date\", inplace=True)\n",
    "        \n",
    "        # calcuate returns in percentage\n",
    "        self.stock_data[\"Final Returns\"] = self.stock_data[\"Cum Returns\"] * 100\n",
    "        \n",
    "        return self.stock_data\n",
    "    \n",
    "    def plot_graph(self):\n",
    "        self.stock_data.plot(y=\"Final Returns\"),\n",
    "        plt.xlabel(\"Year\"),\n",
    "        plt.ylabel(\"Returns [%]\"),\n",
    "        plt.title(\"Returns of ETF\");"
   ]
  },
  {
   "cell_type": "markdown",
   "id": "8ba2a594-6719-43e7-975c-4d102d220a63",
   "metadata": {},
   "source": [
    "* Run below cell to create graph of your returns of specified time period."
   ]
  },
  {
   "cell_type": "code",
   "execution_count": 5,
   "id": "d6001161-e65f-4f97-be59-f3bd604b5139",
   "metadata": {},
   "outputs": [
    {
     "name": "stdout",
     "output_type": "stream",
     "text": [
      "[*********************100%***********************]  1 of 1 completed\n"
     ]
    },
    {
     "data": {
      "image/png": "[encoded data removed]",
      "text/plain": [
       "<Figure size 432x288 with 1 Axes>"
      ]
     },
     "metadata": {
      "needs_background": "light"
     },
     "output_type": "display_data"
    }
   ],
   "source": [
    "returns = Returns(\"NIFTYBEES.NS\", \"2012-01-01\", \"2022-08-28\")\n",
    "returns.plot_graph()"
   ]
  }
 ],
 "metadata": {
  "kernelspec": {
   "display_name": "Python 3 (ipykernel)",
   "language": "python",
   "name": "python3"
  },
  "language_info": {
   "codemirror_mode": {
    "name": "ipython",
    "version": 3
   },
   "file_extension": ".py",
   "mimetype": "text/x-python",
   "name": "python",
   "nbconvert_exporter": "python",
   "pygments_lexer": "ipython3",
   "version": "3.9.12"
  }
 },
 "nbformat": 4,
 "nbformat_minor": 5
}
